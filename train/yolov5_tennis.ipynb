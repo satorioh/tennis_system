{
 "cells": [
  {
   "cell_type": "code",
   "execution_count": null,
   "id": "521568c4-7512-467e-b482-5c84370fc963",
   "metadata": {},
   "outputs": [],
   "source": [
    "!nvidia-smi"
   ]
  },
  {
   "cell_type": "code",
   "execution_count": null,
   "id": "8646b314-1996-4551-b4f8-25f3373ca13e",
   "metadata": {},
   "outputs": [],
   "source": [
    "!pip install --upgrade ultralytics==8.0.186\n",
    "import ultralytics\n",
    "ultralytics.checks()"
   ]
  },
  {
   "cell_type": "code",
   "execution_count": null,
   "id": "e7e3c272-bc5d-40a5-a0c6-d373705c5b50",
   "metadata": {},
   "outputs": [],
   "source": [
    "!pip install opencv-python-headless"
   ]
  },
  {
   "cell_type": "code",
   "execution_count": null,
   "id": "c6dbb9ee-f324-424f-be3c-b9c39701dbac",
   "metadata": {},
   "outputs": [],
   "source": [
    "from ultralytics import settings, YOLO\n",
    "\n",
    "print(settings)"
   ]
  },
  {
   "cell_type": "code",
   "execution_count": null,
   "id": "56e82441-30b9-43c4-81c1-b0ba888e8415",
   "metadata": {},
   "outputs": [],
   "source": [
    "!pip install wandb -qU\n",
    "import wandb\n",
    "wandb.login()"
   ]
  },
  {
   "cell_type": "code",
   "execution_count": null,
   "id": "22255f20-10f8-4202-9c85-6b1e9d918393",
   "metadata": {},
   "outputs": [],
   "source": [
    "wandb.init(project=\"yolov5_tennis\", job_type=\"training\")"
   ]
  },
  {
   "cell_type": "code",
   "execution_count": null,
   "id": "5269e9c5-c447-4778-a9e1-8f0505945d08",
   "metadata": {},
   "outputs": [],
   "source": [
    "model = YOLO('yolov5l6u.pt')"
   ]
  },
  {
   "cell_type": "code",
   "execution_count": null,
   "id": "d2a1c09d-84e3-4d60-8b60-7cbac734ec4e",
   "metadata": {},
   "outputs": [],
   "source": [
    "from wandb.integration.ultralytics import add_wandb_callback\n",
    "\n",
    "add_wandb_callback(model, enable_model_checkpointing=True)"
   ]
  },
  {
   "cell_type": "code",
   "execution_count": null,
   "id": "48ba93f9-dbc0-4813-b054-bc521d586647",
   "metadata": {},
   "outputs": [],
   "source": [
    "results = model.train(project=\"yolov5_tennis\", data='./datasets/data.yaml', epochs=50, imgsz=213)"
   ]
  },
  {
   "cell_type": "code",
   "execution_count": null,
   "id": "ba40af1b-946a-47d5-b6ee-c026bd5ab61f",
   "metadata": {},
   "outputs": [],
   "source": []
  }
 ],
 "metadata": {
  "kernelspec": {
   "display_name": "Python 3 (ipykernel)",
   "language": "python",
   "name": "python3"
  },
  "language_info": {
   "codemirror_mode": {
    "name": "ipython",
    "version": 3
   },
   "file_extension": ".py",
   "mimetype": "text/x-python",
   "name": "python",
   "nbconvert_exporter": "python",
   "pygments_lexer": "ipython3",
   "version": "3.10.13"
  }
 },
 "nbformat": 4,
 "nbformat_minor": 5
}
